{
 "cells": [
  {
   "cell_type": "code",
   "execution_count": 2,
   "metadata": {},
   "outputs": [
    {
     "data": {
      "text/html": [
       "<h1> Strings are everywhere! Python allows us to do many things with strings like concatenate them,\n",
       "transform them to upper or lower case, split and join them or use regular expressions to extract\n",
       "parts of the string\n",
       "</h1> \n"
      ],
      "text/plain": [
       "<IPython.core.display.HTML object>"
      ]
     },
     "metadata": {},
     "output_type": "display_data"
    }
   ],
   "source": [
    "%%HTML\n",
    "<h1> Strings are everywhere! Python allows us to do many things with strings like concatenate them,\n",
    "transform them to upper or lower case, split and join them or use regular expressions to extract\n",
    "parts of the string\n",
    "</h1> "
   ]
  },
  {
   "cell_type": "code",
   "execution_count": 11,
   "metadata": {},
   "outputs": [],
   "source": [
    "#Let's start by creating a string. Use quotes (double or single)\n",
    "#Make sure you both start and end the string with a quote\n",
    "# SHIFT + ENTER to run the cell \n",
    "s = \"Albeta is a province in Canada\""
   ]
  },
  {
   "cell_type": "code",
   "execution_count": 12,
   "metadata": {},
   "outputs": [
    {
     "data": {
      "text/html": [
       "<h1> There are several string methods take a look at the following:\n",
       "<ul>\n",
       "<li>upper/lower</li>\n",
       "<li>split/join</li>\n",
       "<li>slicing strings</li>\n",
       "<li>regular expressions</li>\n",
       "</ul\n"
      ],
      "text/plain": [
       "<IPython.core.display.HTML object>"
      ]
     },
     "metadata": {},
     "output_type": "display_data"
    }
   ],
   "source": [
    "%%HTML\n",
    "<h1> There are several string methods take a look at the following:\n",
    "<ul>\n",
    "<li>upper/lower</li>\n",
    "<li>split/join</li>\n",
    "<li>slicing strings</li>\n",
    "<li>regular expressions</li>\n",
    "</ul"
   ]
  },
  {
   "cell_type": "code",
   "execution_count": 14,
   "metadata": {},
   "outputs": [
    {
     "name": "stdout",
     "output_type": "stream",
     "text": [
      "Albeta is a province in Canada\n"
     ]
    }
   ],
   "source": [
    "#Nothing happened? It did in the background Python created our string and assigned it a name\n",
    "#Let's print this string \n",
    "print(s)"
   ]
  },
  {
   "cell_type": "code",
   "execution_count": 15,
   "metadata": {},
   "outputs": [
    {
     "data": {
      "text/plain": [
       "'ALBETA IS A PROVINCE IN CANADA'"
      ]
     },
     "execution_count": 15,
     "metadata": {},
     "output_type": "execute_result"
    }
   ],
   "source": [
    "#Strings have many methods we can call. Lets use one to make it all capitals\n",
    "s.upper()"
   ]
  },
  {
   "cell_type": "code",
   "execution_count": 16,
   "metadata": {},
   "outputs": [
    {
     "data": {
      "text/plain": [
       "['Albeta', 'is', 'a', 'province', 'in', 'Canada']"
      ]
     },
     "execution_count": 16,
     "metadata": {},
     "output_type": "execute_result"
    }
   ],
   "source": [
    "#We can call split our string and turn it into a list. We'll cover lists later\n",
    "s.split(\" \")\n"
   ]
  },
  {
   "cell_type": "code",
   "execution_count": 17,
   "metadata": {},
   "outputs": [
    {
     "data": {
      "text/plain": [
       "'Albeta,is,a,province,in,Canada'"
      ]
     },
     "execution_count": 17,
     "metadata": {},
     "output_type": "execute_result"
    }
   ],
   "source": [
    "#The opposite of split is join, can you see what this does? \n",
    "\n",
    "\",\".join(s.split(\" \"))"
   ]
  },
  {
   "cell_type": "code",
   "execution_count": 18,
   "metadata": {},
   "outputs": [
    {
     "data": {
      "text/plain": [
       "'Albeta is a province in CanadaI am another string!'"
      ]
     },
     "execution_count": 18,
     "metadata": {},
     "output_type": "execute_result"
    }
   ],
   "source": [
    "#Can we concatenate 2 strings together? First let's create another stirng. Let's use + operator\n",
    "#concat the 2 strings together\n",
    "\n",
    "t = \"I am another string!\"\n",
    "\n",
    "s + t "
   ]
  },
  {
   "cell_type": "code",
   "execution_count": 19,
   "metadata": {},
   "outputs": [
    {
     "name": "stdout",
     "output_type": "stream",
     "text": [
      "Albeta is a province in Canada Albeta is a province in Canada\n"
     ]
    }
   ],
   "source": [
    "#Not quite what we wanted, notice concat doesn't put a space between our strings let's do this\n",
    "\n",
    "print(s + \" \" + s)"
   ]
  },
  {
   "cell_type": "code",
   "execution_count": 20,
   "metadata": {},
   "outputs": [
    {
     "name": "stdout",
     "output_type": "stream",
     "text": [
      "12\n"
     ]
    }
   ],
   "source": [
    "#Cool, what about finding position of a word in the string? We can use index for this\n",
    "print(s.index(\"province\"))"
   ]
  },
  {
   "cell_type": "code",
   "execution_count": 36,
   "metadata": {},
   "outputs": [
    {
     "name": "stdout",
     "output_type": "stream",
     "text": [
      "The first character of s is : A\n",
      "The second character of s is l\n"
     ]
    }
   ],
   "source": [
    "#What if I want to extract the Country, Canada from the string? We can use slicing \n",
    "print(\"The first character of s is : \" + s[0])\n",
    "print(\"The second character of s is \" + s[1])\n"
   ]
  },
  {
   "cell_type": "code",
   "execution_count": 41,
   "metadata": {},
   "outputs": [],
   "source": [
    "#LAB CHALLENGE: Extract informatin from a string. Solution below.\n",
    "#Given string s, extract the country (Canada) from the string and store it in a variable called country"
   ]
  },
  {
   "cell_type": "code",
   "execution_count": 37,
   "metadata": {},
   "outputs": [
    {
     "data": {
      "text/plain": [
       "24"
      ]
     },
     "execution_count": 37,
     "metadata": {},
     "output_type": "execute_result"
    }
   ],
   "source": [
    "#We need to find the index (numerical position) of the word Canada in our string. Let's use the\n",
    "#index method for this which we haven't seen yet\n",
    "s.index(\"Canada\")"
   ]
  },
  {
   "cell_type": "code",
   "execution_count": 40,
   "metadata": {},
   "outputs": [
    {
     "name": "stdout",
     "output_type": "stream",
     "text": [
      "Canada\n"
     ]
    }
   ],
   "source": [
    "#Perfect let's split our string and take all characters from index 24 to end of string and assign to a new variable \n",
    "country = s[24:]\n",
    "print(country)"
   ]
  },
  {
   "cell_type": "code",
   "execution_count": null,
   "metadata": {},
   "outputs": [],
   "source": []
  }
 ],
 "metadata": {
  "kernelspec": {
   "display_name": "Python 3",
   "language": "python",
   "name": "python3"
  },
  "language_info": {
   "codemirror_mode": {
    "name": "ipython",
    "version": 3
   },
   "file_extension": ".py",
   "mimetype": "text/x-python",
   "name": "python",
   "nbconvert_exporter": "python",
   "pygments_lexer": "ipython3",
   "version": "3.7.6"
  }
 },
 "nbformat": 4,
 "nbformat_minor": 4
}
